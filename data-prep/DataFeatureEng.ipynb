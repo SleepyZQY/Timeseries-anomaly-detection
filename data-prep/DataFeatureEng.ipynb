{
 "cells": [
  {
   "cell_type": "code",
   "execution_count": 6,
   "metadata": {},
   "outputs": [],
   "source": [
    "import copy\n",
    "import gc\n",
    "import calendar\n",
    "\n",
    "import numpy as np\n",
    "import pandas as pd\n",
    "import matplotlib.pyplot as plt\n",
    "import seaborn as sns\n",
    "\n",
    "from sklearn.preprocessing import LabelEncoder  \n"
   ]
  },
  {
   "cell_type": "markdown",
   "metadata": {},
   "source": [
    "Load saved cleaned df "
   ]
  },
  {
   "cell_type": "code",
   "execution_count": 7,
   "metadata": {},
   "outputs": [],
   "source": [
    "facility_data = pd.read_csv('preprocessed_site_data.csv') \n",
    "\n",
    "facility_data['Timestamp'] = pd.to_datetime(facility_data.Timestamp, format='%Y-%m-%d %H:%M:%S')\n",
    "facility_data['date'] =facility_data['Timestamp'].dt.date\n",
    "\n",
    "facility_data.index= facility_data.Timestamp"
   ]
  },
  {
   "cell_type": "code",
   "execution_count": 12,
   "metadata": {},
   "outputs": [
    {
     "data": {
      "text/plain": [
       "1"
      ]
     },
     "execution_count": 12,
     "metadata": {},
     "output_type": "execute_result"
    }
   ],
   "source": [
    "np.sum(facility_data.Values.isnull())"
   ]
  },
  {
   "cell_type": "code",
   "execution_count": 13,
   "metadata": {},
   "outputs": [],
   "source": [
    "def make_validation_features(data, val_not_test=True, val_cutoff='1-1-2017 00:00:00', test_cutoff='6-19-2017 23:59:59'):\n",
    "    \"\"\"Takes the preprocessed data creates features for ML with validation/test split indicates\"\"\"\n",
    "    \n",
    "    if val_not_test:   \n",
    "        train = make_features(data[:val_cutoff].copy())\n",
    "        train['data_set'] = 0\n",
    "        \n",
    "        test = make_features(data[:test_cutoff].copy())[val_cutoff:]\n",
    "        test['data_set'] = 1\n",
    "        \n",
    "    else:\n",
    "        train = make_features(data[:test_cutoff].copy())\n",
    "        train['data_set'] = 0\n",
    "        \n",
    "        test = make_features(data.copy())[test_cutoff:]\n",
    "        test['data_set'] = 3\n",
    "        \n",
    "    target = pd.concat([train, test])\n",
    "    return target\n",
    "\n",
    "def make_features(target):\n",
    "    \"\"\"makes features for ML without val/test split\"\"\"\n",
    "    \n",
    "    #record length to check nothing unexpected occurs later\n",
    "    target_length = target.shape[0]\n",
    "    \n",
    "    #add one hot encoded day of week\n",
    "    DofW = pd.get_dummies(target.DofW)\n",
    "    DofW.columns = list(calendar.day_abbr)\n",
    "    DofW.head()\n",
    "    target = pd.merge(target, \n",
    "                     DofW,\n",
    "                     how= 'left',\n",
    "                     left_index=True, right_index=True)\n",
    "    \n",
    "    assert target.shape[0] == target_length\n",
    "    \n",
    "    \n",
    "    \n",
    "    holid_type_list = ['dayB4Holiday', 'isHoliday', 'dayAftHoliday']\n",
    "    \n",
    "    target['holid_group'] = (target[holid_type_list].sum(axis=1) > 1)\n",
    "    target['holid_group'] = target.holid_group.astype(int)\n",
    "    target['winter_holid'] = (((target['month'] == 12 ) & (target['day'] > 21)) |\n",
    "                           ( (target['month'] == 1) & (target['day'] <=1)))\n",
    "    target['winter_holid'] = target.winter_holid.astype(int)\n",
    "\n",
    "    #add average value for capturing seasonal effects\n",
    "    # day of year and hour average to be used for edge cases\n",
    "    temp = target.groupby(['DofY','hour'], as_index=False).apply(mean_of_others_day).reset_index()\n",
    "    temp.index = temp.Timestamp\n",
    "    temp.sort_index(inplace=True)\n",
    "    target['temp_daily_av'] = temp['Values']\n",
    "\n",
    "    # day of week and week of year, except edge cases with only one value\n",
    "    temp = target.groupby(['week','DofW','hour']).apply(mean_of_others_week).reset_index()\n",
    "    temp.index= temp.Timestamp\n",
    "    temp.sort_index(inplace=True)\n",
    "    target['hour_av'] = temp[0]\n",
    "    target.drop('temp_daily_av', axis=1, inplace=True)\n",
    "\n",
    "    # temperature features\n",
    "    target['kelv'] = target['wtd_temp'] - target['wtd_temp'].mean()\n",
    "    target['kelv2'] = target['kelv'] ** 2    \n",
    "    target['wtd_temp'] = target['wtd_temp'] - 18\n",
    "\n",
    "    #temperature day of year and hour global average\n",
    "    target['hourly_av_T'] = target.groupby(['DofY','hour'])['wtd_temp'].transform(np.mean)\n",
    "    target['hourly_av_T2'] = target.groupby(['DofY','hour'])['kelv2'].transform(mean_sq_temp)\n",
    "\n",
    "    target['diff_from_av'] = target.Values - target['hour_av']\n",
    "    target['diff_from_av_T'] = target.wtd_temp - target['hourly_av_T']\n",
    "    target['diff_from_av_T2'] = target['kelv2'] - target['hourly_av_T2']\n",
    "    assert target.shape[0] == target_length\n",
    "       \n",
    "    # create several diff features to shift back to prior weeks\n",
    "    orig_names = list(target)\n",
    "    #differences\n",
    "    target['f1d4_Values'] = target['Values'].diff(4)\n",
    "    target['bd1_Values'] = target['Values'].diff(-4)\n",
    "    target['f1d1_Values'] = target['Values'].diff(2)\n",
    "    #use prior column names and current to get new col names \n",
    "    imp_col_names = list(set(list(target)) - set(orig_names))\n",
    "    print(imp_col_names)\n",
    "    # add shifted differences\n",
    "    target = add_shifted(target, imp_col_names, 1, 'D')\n",
    "    target = add_shifted(target, imp_col_names, 7, 'D')\n",
    "    \n",
    "\n",
    "    #peak hour which is shifted back\n",
    "    peak_hour = target.groupby('date')[['Values']].agg(find_daily_max_demand_time)\n",
    "    peak_hour.reset_index(inplace=True)\n",
    "    peak_hour['date'] = peak_hour['date'].astype(str)\n",
    "    peak_hour['Values'] = peak_hour.Values.dt.hour + peak_hour.Values.dt.minute/60\n",
    "    peak_hour.rename(columns={'Values':'peak_hour'},inplace=True)\n",
    "    assert target.shape[0] == target_length\n",
    "    \n",
    "    \n",
    "    #add predicted daily values\n",
    "    daily_pred = pd.read_csv('day_predictions.csv')\n",
    "    daily_pred.rename(columns={'pred':'daily_pred'},inplace=True)\n",
    "\n",
    "    target['date2'] = target.date\n",
    "    target['date']= target.date.astype(str)\n",
    "    target = pd.merge(target, daily_pred[['daily_pred','daily_av','date']],\n",
    "             left_on='date', right_on='date',how='left')\n",
    "\n",
    "    #add peak hour for prior day\n",
    "    target = pd.merge(target, peak_hour,\n",
    "             left_on='date', right_on='date',how='left')\n",
    "\n",
    "    target['date'] = target.date2\n",
    "    target.index = target.Timestamp\n",
    "    target['dist_from_peak'] = target['hour'] - target['peak_hour']\n",
    "    target.drop('date2', axis=1, inplace=True)\n",
    "    assert target.shape[0] == target_length\n",
    "    \n",
    "    #shift the values back by days\n",
    "    shifts = [1,2,3,7,52*7]\n",
    "    for shft in shifts: \n",
    "\n",
    "        #shift values\n",
    "        val_col_name = 'p'+str(shft)+'shft'\n",
    "        target[val_col_name] = shift_column(target, 'diff_from_av',shift_amt=shft)\n",
    "\n",
    "        #shift peak\n",
    "        val_col_name2 = 'peak'+str(shft)+'shft'\n",
    "        target[val_col_name2] = shift_column(target, 'dist_from_peak',shift_amt=shft)\n",
    "\n",
    "        #shift temperatures\n",
    "        tem_col_name = 't'+str(shft)+'shft'\n",
    "        target[tem_col_name] = shift_column(target, 'kelv2', shift_amt=shft )\n",
    "\n",
    "    #difference between prior weeks temperature\n",
    "    target['p1shft_d'] = target['kelv2'] - target['p1shft']\n",
    "    target['p7sfht_d'] = target['kelv2'] - target['p7shft']\n",
    "\n",
    "    target['diff_from_av_T'] = target.wtd_temp - target['hourly_av_T']\n",
    "    target['diff_from_av_T_sq'] = target.wtd_temp**2 - target['hourly_av_T']**2\n",
    "    target['temp_streak_av'] = target.diff_from_av_T_sq.ewm(span=12).mean()\n",
    "    target['temp_streak'] = target.rolling(8)['diff_from_av_T'].agg(sum)\n",
    "    target['diff_rat'] = target.diff_from_av/(target.temp_streak_av.apply(abs)+1)\n",
    "    target['daily_pred_av_ratio'] = target['daily_pred'] / target['daily_av']\n",
    "    target.index = target['Timestamp']\n",
    "    target.dropna(subset=['Values'],inplace=True)\n",
    "    assert target.shape[0] == (target_length - 1) #the initial value should be a null and dropped\n",
    "    \n",
    "\n",
    "    cats = ['hour']\n",
    "\n",
    "    target = pd.merge(target,\n",
    "            pd.get_dummies(target[cats], columns = cats),\n",
    "            left_index=True, right_index=True, how='left')\n",
    "    \n",
    "    target.index = target['Timestamp']\n",
    "\n",
    "    # save feature lists of features to remove for the 1 day and 1 hr ahead versions\n",
    "    target['ahead_15'] = target['diff_from_av'].shift(1)\n",
    "    target['ahead_15_diff'] = target['ahead_15'].diff(1)\n",
    "    target['ahead_30'] = target['diff_from_av'].shift(2)\n",
    "    target['1hr_ahead'] = target['diff_from_av'].shift(4)\n",
    "    target['1hr_ahead_diff'] = target['1hr_ahead'].diff(2)\n",
    "    target['1hr_ahead_diff_diff'] = target['1hr_ahead_diff'].diff()\n",
    "    target['1p5hr_ahead'] = target['diff_from_av'].shift(6)\n",
    "    target['2hr_ahead'] = target['diff_from_av'].shift(8)\n",
    "    \n",
    "    return target\n",
    "    \n",
    "\n",
    "#temp squared\n",
    "def mean_sq_temp(col):\n",
    "    return np.mean(col**2)\n",
    "\n",
    "#lags\n",
    "def add_lag(df, col, lag=3):\n",
    "    col_name ='l'+ str(lag) + col\n",
    "    df[col_name] = df[col].shift(lag)\n",
    "    return col_name\n",
    "\n",
    "def return_first(col):\n",
    "    if col.shape[0]:\n",
    "        return col.iloc[0]\n",
    "    else:\n",
    "        return np.nan\n",
    "    #prior days\n",
    "    \n",
    "def merge_date_inds(df1, df2):\n",
    "    return pd.merge(df1,\n",
    "            df2,\n",
    "            left_index = True, right_index=True,\n",
    "            how='left')\n",
    "    \n",
    "def add_shifted(df, cols, amd, unit):\n",
    "    \n",
    "    toshift = df.loc[:,cols].copy()\n",
    "    toshift.index=toshift.index+pd.Timedelta(amd, unit=unit)\n",
    "    toshift.columns = [('shift_'+str(amd) + unit+col_name) for col_name in cols]\n",
    "    return merge_date_inds(df, toshift)\n",
    "\n",
    "def find_daily_max_demand_time(groupby_cols):\n",
    "    return groupby_cols.idxmax()\n",
    "\n",
    "def shift_column(df, column_name='Values', shift_amt=1):\n",
    "    return df.groupby('hour',as_index=False)[column_name].transform(lambda col: col.shift(shift_amt))\n",
    "\n",
    "def mean_of_others_day(col):\n",
    "\n",
    "    if col.Values.shape[0] > 1:\n",
    "        temp = (np.sum(col.Values) - col.Values)/(col.Values.shape[0] - 1)\n",
    "        assert temp.shape[0] == col.shape[0]\n",
    "        return temp\n",
    "    else:\n",
    "        raise\n",
    "\n",
    "def mean_of_others_week(col):\n",
    "    if col.Values.shape[0] > 1:\n",
    "        return (np.sum(col.Values) - col.Values)/(col.Values.shape[0] - 1)\n",
    "    else:       \n",
    "        return col.temp_daily_av\n",
    "    "
   ]
  },
  {
   "cell_type": "code",
   "execution_count": 26,
   "metadata": {},
   "outputs": [
    {
     "name": "stdout",
     "output_type": "stream",
     "text": [
      "['f1d4_Values', 'f1d1_Values', 'bd1_Values']\n",
      "['f1d4_Values', 'f1d1_Values', 'bd1_Values']\n",
      "0    222152\n",
      "1     16320\n",
      "Name: data_set, dtype: int64\n"
     ]
    },
    {
     "data": {
      "text/plain": [
       "(238472, 175)"
      ]
     },
     "execution_count": 26,
     "metadata": {},
     "output_type": "execute_result"
    }
   ],
   "source": [
    "feats_df = make_validation_features(facility_data, True )\n",
    "print(feats_df.data_set.value_counts())\n",
    "feats_df.shape"
   ]
  },
  {
   "cell_type": "code",
   "execution_count": 27,
   "metadata": {},
   "outputs": [],
   "source": [
    "feats_df.to_csv('final_data/train_val.csv',index=False)\n",
    "# feats_df.to_csv('final_data/train_test.csv',index=False)\n"
   ]
  },
  {
   "cell_type": "code",
   "execution_count": 24,
   "metadata": {},
   "outputs": [
    {
     "data": {
      "text/plain": [
       "[<matplotlib.lines.Line2D at 0x7f0695ff6e10>]"
      ]
     },
     "execution_count": 24,
     "metadata": {},
     "output_type": "execute_result"
    },
    {
     "data": {
      "image/png": "[encoded data removed]",
      "text/plain": [
       "<matplotlib.figure.Figure at 0x7f0685fff5c0>"
      ]
     },
     "metadata": {},
     "output_type": "display_data"
    }
   ],
   "source": [
    "val_cutoff = '1-1-2017 00:00:00'\n",
    "test_cutoff = '6-19-2017 23:59:59'\n",
    "\n",
    "feats_df.index=feats_df.Timestamp\n",
    "plt.figure(figsize=(15,8))\n",
    "\n",
    "XY_plot = feats_df[feats_df.data_set==0]\n",
    "plt.plot(XY_plot.index, XY_plot.Values, alpha=0.8, c= 'r')\n",
    "\n",
    "XY_plot = feats_df[feats_df.data_set==1]\n",
    "plt.plot(XY_plot.index, XY_plot.Values, alpha=0.8, c='k')\n",
    "\n",
    "XY_plot = feats_df[feats_df.data_set==3]\n",
    "plt.plot(XY_plot.index, XY_plot.Values, alpha=0.8, c= 'b')\n"
   ]
  }
 ],
 "metadata": {
  "kernelspec": {
   "display_name": "Python 3",
   "language": "python",
   "name": "python3"
  },
  "language_info": {
   "codemirror_mode": {
    "name": "ipython",
    "version": 3
   },
   "file_extension": ".py",
   "mimetype": "text/x-python",
   "name": "python",
   "nbconvert_exporter": "python",
   "pygments_lexer": "ipython3",
   "version": "3.6.4"
  }
 },
 "nbformat": 4,
 "nbformat_minor": 2
}
