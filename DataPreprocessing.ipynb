{
 "cells": [
  {
   "cell_type": "markdown",
   "metadata": {},
   "source": [
    "# Data preprocessing\n",
    "\n",
    "This notebook selects data from the relevant facility and combines the different csv files into a single one to serve as the starting point of the feature creation.\n",
    "\n",
    "The main meter values are corrected for rollover, and the external environment temperatures are combined as an inverse distance weighted average.\n",
    "\n",
    "While the full raw data files data contain information on 3 separate facilities, analysis is done on the site with seven years of historic data only.\n",
    "\n",
    "Some preprocessing steps are unique to this site as the other sites do not have cumulative meters."
   ]
  },
  {
   "cell_type": "code",
   "execution_count": 2,
   "metadata": {},
   "outputs": [],
   "source": [
    "import copy\n",
    "import gc\n",
    "import calendar\n",
    "\n",
    "import numpy as np\n",
    "import pandas as pd\n",
    "import seaborn as sns\n",
    "import matplotlib.pyplot as plt\n",
    "\n",
    "from sklearn.preprocessing import LabelEncoder  "
   ]
  },
  {
   "cell_type": "markdown",
   "metadata": {},
   "source": [
    "Raw data file paths"
   ]
  },
  {
   "cell_type": "code",
   "execution_count": 3,
   "metadata": {},
   "outputs": [],
   "source": [
    "powerdata_file = 'Power_Laws_Detecting_Anomalies_in_Usage_-_Training_Data.csv'\n",
    "meta_data_file = 'Power_Laws_Detecting_Anomalies_in_Usage_-_Metadata.csv'\n",
    "holiday_data_file = 'Power_Laws_Detecting_Anomalies_in_Usage_-_Holidays.csv'\n",
    "weather_data_file = 'Power_Laws_Detecting_Anomalies_in_Usage_-_Weather.csv'"
   ]
  },
  {
   "cell_type": "markdown",
   "metadata": {},
   "source": [
    "Load raw data"
   ]
  },
  {
   "cell_type": "code",
   "execution_count": 4,
   "metadata": {},
   "outputs": [],
   "source": [
    "def load_power_data(file_path):\n",
    "    \"\"\"Load csv data file to pd array with types specified\"\"\"\n",
    "    return pd.read_csv(file_path, low_memory=False, dtype={'meter_id':str, 'site_id':str })\n",
    "\n",
    "train = load_power_data(powerdata_file)\n",
    "mdat = load_power_data(meta_data_file)\n",
    "holids = load_power_data(holiday_data_file)\n",
    "wdat = load_power_data(weather_data_file)"
   ]
  },
  {
   "cell_type": "markdown",
   "metadata": {},
   "source": [
    "Preliminary cleaning"
   ]
  },
  {
   "cell_type": "code",
   "execution_count": 5,
   "metadata": {},
   "outputs": [],
   "source": [
    "def format_time(time_col, just_date=False):\n",
    "    \"\"\"Predefined time formatting for this data\"\"\"\n",
    "    if just_date:\n",
    "        return  pd.to_datetime(time_col, format='%Y-%m-%d')\n",
    "    else:\n",
    "        return pd.to_datetime(time_col, format='%Y-%m-%d %H:%M:%S')\n"
   ]
  },
  {
   "cell_type": "code",
   "execution_count": 6,
   "metadata": {},
   "outputs": [],
   "source": [
    "# improve column naming\n",
    "holids.rename(columns = {'Date':'date'},inplace=True)\n",
    "\n",
    "#drop unneeded column\n",
    "train.drop('Unnamed: 0',axis=1,inplace=True)\n",
    "\n",
    "#correct site id nomenclature for weather data\n",
    "wdat_bad_site_id_mask = (wdat['site_id'] == '38')\n",
    "wdat.loc[wdat_bad_site_id_mask, 'site_id'] = '038'\n",
    "\n",
    "# format time columns\n",
    "train['Timestamp'] = format_time(train['Timestamp'])\n",
    "holids['date'] = format_time(holids['date'], just_date=True)\n",
    "\n",
    "train.index = train['Timestamp']\n",
    "wdat.dropna(inplace=True)\n",
    "\n"
   ]
  },
  {
   "cell_type": "markdown",
   "metadata": {},
   "source": [
    "## Facility selection "
   ]
  },
  {
   "cell_type": "markdown",
   "metadata": {},
   "source": [
    "Get the main meter and meters from the targetted facility"
   ]
  },
  {
   "cell_type": "code",
   "execution_count": 7,
   "metadata": {},
   "outputs": [
    {
     "name": "stdout",
     "output_type": "stream",
     "text": [
      "target 38_9686\n"
     ]
    }
   ],
   "source": [
    "# get the meters at the facility site of interest\n",
    "SITE_NO = 2\n",
    "\n",
    "# site ids\n",
    "sites = mdat.site_id.unique()\n",
    "\n",
    "#all meters at selected site\n",
    "meters = set(mdat[mdat.site_id==sites[SITE_NO]].meter_id)\n",
    "\n",
    "#main meters all sites\n",
    "main_meters = ['234_203', '334_61', '38_9686']\n",
    "\n",
    "#main meter current site\n",
    "curr_main_meter =  list(meters.intersection( set(main_meters)))[0]\n",
    "print('target',curr_main_meter)"
   ]
  },
  {
   "cell_type": "code",
   "execution_count": 8,
   "metadata": {},
   "outputs": [],
   "source": [
    "# Discard data from the other facilities."
   ]
  },
  {
   "cell_type": "code",
   "execution_count": 9,
   "metadata": {},
   "outputs": [],
   "source": [
    "def get_site(df, meters, site):\n",
    "    \"\"\"Return data only for specified meters or site\"\"\"\n",
    "    if 'meter_id' in df:\n",
    "        return df[df.meter_id.isin(meters)]\n",
    "    elif 'site_id' in df:\n",
    "        return df[df.site_id == site]\n",
    "    \n"
   ]
  },
  {
   "cell_type": "code",
   "execution_count": 10,
   "metadata": {},
   "outputs": [],
   "source": [
    "#return data only for the site of interest\n",
    "\n",
    "train = get_site(train, meters, sites[SITE_NO])\n",
    "mdat = get_site(mdat, meters, sites[SITE_NO])\n",
    "wdat = get_site(wdat, meters, sites[SITE_NO])\n",
    "holids = get_site(holids, meters, sites[SITE_NO])\n"
   ]
  },
  {
   "cell_type": "markdown",
   "metadata": {},
   "source": [
    "# Feature data frame\n",
    "\n",
    "Create initial feature data frame"
   ]
  },
  {
   "cell_type": "code",
   "execution_count": 11,
   "metadata": {},
   "outputs": [],
   "source": [
    "#get data for the main meter as the starting feature data frame\n",
    "targ_meters_mask = train.meter_id==curr_main_meter\n",
    "target = train[targ_meters_mask].copy()\n",
    "del targ_meters_mask\n",
    "\n",
    "target.drop(['meter_id'],inplace=True, axis=1)\n"
   ]
  },
  {
   "cell_type": "code",
   "execution_count": null,
   "metadata": {},
   "outputs": [],
   "source": []
  },
  {
   "cell_type": "code",
   "execution_count": 12,
   "metadata": {},
   "outputs": [],
   "source": [
    "old_nulls = target[(target.Values.isnull())]"
   ]
  },
  {
   "cell_type": "code",
   "execution_count": 13,
   "metadata": {},
   "outputs": [
    {
     "name": "stdout",
     "output_type": "stream",
     "text": [
      "                              Timestamp     Values\n",
      "Timestamp                                         \n",
      "2011-05-01 19:30:00 2011-05-01 19:30:00  5023451.5\n",
      "2014-07-20 09:45:00 2014-07-20 09:45:00  3216969.0\n"
     ]
    }
   ],
   "source": [
    "target.dropna(subset = ['Values'], inplace=True)\n",
    "print(target.sample(2))"
   ]
  },
  {
   "cell_type": "code",
   "execution_count": 14,
   "metadata": {},
   "outputs": [
    {
     "data": {
      "text/plain": [
       "Series([], Name: Values, dtype: float64)"
      ]
     },
     "execution_count": 14,
     "metadata": {},
     "output_type": "execute_result"
    }
   ],
   "source": [
    "target[target['Values']<=0].Values"
   ]
  },
  {
   "cell_type": "code",
   "execution_count": 15,
   "metadata": {},
   "outputs": [
    {
     "data": {
      "text/html": [
       "<div>\n",
       "<style scoped>\n",
       "    .dataframe tbody tr th:only-of-type {\n",
       "        vertical-align: middle;\n",
       "    }\n",
       "\n",
       "    .dataframe tbody tr th {\n",
       "        vertical-align: top;\n",
       "    }\n",
       "\n",
       "    .dataframe thead th {\n",
       "        text-align: right;\n",
       "    }\n",
       "</style>\n",
       "<table border=\"1\" class=\"dataframe\">\n",
       "  <thead>\n",
       "    <tr style=\"text-align: right;\">\n",
       "      <th></th>\n",
       "      <th>Timestamp</th>\n",
       "      <th>Values</th>\n",
       "    </tr>\n",
       "    <tr>\n",
       "      <th>Timestamp</th>\n",
       "      <th></th>\n",
       "      <th></th>\n",
       "    </tr>\n",
       "  </thead>\n",
       "  <tbody>\n",
       "  </tbody>\n",
       "</table>\n",
       "</div>"
      ],
      "text/plain": [
       "Empty DataFrame\n",
       "Columns: [Timestamp, Values]\n",
       "Index: []"
      ]
     },
     "execution_count": 15,
     "metadata": {},
     "output_type": "execute_result"
    }
   ],
   "source": [
    "target[(target.Values.isnull())]"
   ]
  },
  {
   "cell_type": "markdown",
   "metadata": {},
   "source": [
    "Some reading are show a zero electricity consumption for several hours, this is clearly odd.\n",
    "but how should it be treated? Seems like it is often during holiday, could be a time maintenance on the power grid. Perhaps equipment is shifted to an auxillary generator?\n",
    "\n",
    "Currently no treatment is taken. It is assumed these were planned maintenance shutdowns with power coming from an auxillary source during that time."
   ]
  },
  {
   "cell_type": "code",
   "execution_count": 16,
   "metadata": {},
   "outputs": [],
   "source": [
    "# zero usage time example\n",
    "# target['2011-12-27 09:45:00':'2011-12-27 15:45:00']\n"
   ]
  },
  {
   "cell_type": "markdown",
   "metadata": {},
   "source": [
    "## correct meter roll overs"
   ]
  },
  {
   "cell_type": "code",
   "execution_count": 17,
   "metadata": {},
   "outputs": [
    {
     "name": "stdout",
     "output_type": "stream",
     "text": [
      "2012-02-24 07:30:00 9999773.0 113.716484069824 -9999659.28351593 10000000\n",
      "2013-12-05 07:00:00 9999839.0 129.577835083008 -9999709.422164917 20000000\n",
      "2015-11-05 07:15:00 9999853.0 88.6992034912109 -9999764.300796509 30000000\n",
      "2017-09-20 00:15:00 9999934.0 12.3088903427124 -9999921.691109657 40000000\n"
     ]
    }
   ],
   "source": [
    "# correct data for meter rollovers\n",
    "\n",
    "target['temp_diff'] = target['Values'].diff()\n",
    "\n",
    "rollover_correction = 0 \n",
    "new_vals = []\n",
    "prior_val = 0\n",
    "\n",
    "for i, row in enumerate(target.itertuples()):\n",
    "    if row.temp_diff < (- (1*10**6)):\n",
    "        rollover_correction += 10**7\n",
    "        print(row.Timestamp,prior_val, row.Values, row.temp_diff,rollover_correction )\n",
    "        \n",
    "    prior_val = row.Values\n",
    "    new_vals.append(row.Values + rollover_correction)\n",
    "    \n",
    "target['Values'] = new_vals\n",
    "target.drop('temp_diff', axis=1, inplace=True)\n",
    "\n",
    "target['Values_d'] = target['Values'].diff()"
   ]
  },
  {
   "cell_type": "markdown",
   "metadata": {},
   "source": [
    "## Correct for meter pauses"
   ]
  },
  {
   "cell_type": "code",
   "execution_count": 18,
   "metadata": {},
   "outputs": [],
   "source": [
    "#check for odd constant values\n",
    "# target[target['Values_d']<=0].Values"
   ]
  },
  {
   "cell_type": "markdown",
   "metadata": {},
   "source": [
    "Interpolate missing data while meter readings are still in a cumulative format"
   ]
  },
  {
   "cell_type": "code",
   "execution_count": 19,
   "metadata": {},
   "outputs": [
    {
     "name": "stdout",
     "output_type": "stream",
     "text": [
      "00:15:00    254551\n",
      "01:15:00         7\n",
      "01:30:00         3\n",
      "01:00:00         3\n",
      "00:30:00         3\n",
      "00:45:00         2\n",
      "02:15:00         1\n",
      "Name: Timestamp, dtype: int64\n"
     ]
    }
   ],
   "source": [
    "print(target['Timestamp'].diff().value_counts())\n"
   ]
  },
  {
   "cell_type": "code",
   "execution_count": 20,
   "metadata": {},
   "outputs": [
    {
     "data": {
      "text/html": [
       "<div>\n",
       "<style scoped>\n",
       "    .dataframe tbody tr th:only-of-type {\n",
       "        vertical-align: middle;\n",
       "    }\n",
       "\n",
       "    .dataframe tbody tr th {\n",
       "        vertical-align: top;\n",
       "    }\n",
       "\n",
       "    .dataframe thead th {\n",
       "        text-align: right;\n",
       "    }\n",
       "</style>\n",
       "<table border=\"1\" class=\"dataframe\">\n",
       "  <thead>\n",
       "    <tr style=\"text-align: right;\">\n",
       "      <th></th>\n",
       "      <th>Timestamp</th>\n",
       "      <th>Values</th>\n",
       "      <th>Values_d</th>\n",
       "    </tr>\n",
       "    <tr>\n",
       "      <th>Timestamp</th>\n",
       "      <th></th>\n",
       "      <th></th>\n",
       "      <th></th>\n",
       "    </tr>\n",
       "  </thead>\n",
       "  <tbody>\n",
       "    <tr>\n",
       "      <th>2017-02-04 17:15:00</th>\n",
       "      <td>2017-02-04 17:15:00</td>\n",
       "      <td>36776029.5</td>\n",
       "      <td>99.0</td>\n",
       "    </tr>\n",
       "    <tr>\n",
       "      <th>2017-02-04 17:30:00</th>\n",
       "      <td>2017-02-04 17:30:00</td>\n",
       "      <td>36776135.0</td>\n",
       "      <td>105.5</td>\n",
       "    </tr>\n",
       "    <tr>\n",
       "      <th>2017-02-04 17:45:00</th>\n",
       "      <td>2017-02-04 17:45:00</td>\n",
       "      <td>36776242.5</td>\n",
       "      <td>107.5</td>\n",
       "    </tr>\n",
       "    <tr>\n",
       "      <th>2017-02-04 18:00:00</th>\n",
       "      <td>2017-02-04 18:00:00</td>\n",
       "      <td>36776347.0</td>\n",
       "      <td>104.5</td>\n",
       "    </tr>\n",
       "    <tr>\n",
       "      <th>2017-02-04 20:15:00</th>\n",
       "      <td>2017-02-04 20:15:00</td>\n",
       "      <td>36777226.5</td>\n",
       "      <td>879.5</td>\n",
       "    </tr>\n",
       "    <tr>\n",
       "      <th>2017-02-04 20:30:00</th>\n",
       "      <td>2017-02-04 20:30:00</td>\n",
       "      <td>36777320.5</td>\n",
       "      <td>94.0</td>\n",
       "    </tr>\n",
       "    <tr>\n",
       "      <th>2017-02-04 20:45:00</th>\n",
       "      <td>2017-02-04 20:45:00</td>\n",
       "      <td>36777416.5</td>\n",
       "      <td>96.0</td>\n",
       "    </tr>\n",
       "  </tbody>\n",
       "</table>\n",
       "</div>"
      ],
      "text/plain": [
       "                              Timestamp      Values  Values_d\n",
       "Timestamp                                                    \n",
       "2017-02-04 17:15:00 2017-02-04 17:15:00  36776029.5      99.0\n",
       "2017-02-04 17:30:00 2017-02-04 17:30:00  36776135.0     105.5\n",
       "2017-02-04 17:45:00 2017-02-04 17:45:00  36776242.5     107.5\n",
       "2017-02-04 18:00:00 2017-02-04 18:00:00  36776347.0     104.5\n",
       "2017-02-04 20:15:00 2017-02-04 20:15:00  36777226.5     879.5\n",
       "2017-02-04 20:30:00 2017-02-04 20:30:00  36777320.5      94.0\n",
       "2017-02-04 20:45:00 2017-02-04 20:45:00  36777416.5      96.0"
      ]
     },
     "execution_count": 20,
     "metadata": {},
     "output_type": "execute_result"
    }
   ],
   "source": [
    "#values were the missed a couple readings include all the usage in the next reading, seemedly.\n",
    "target['2017-02-04 17:15:00':'2017-02-04 20:45:00']"
   ]
  },
  {
   "cell_type": "code",
   "execution_count": 21,
   "metadata": {},
   "outputs": [],
   "source": [
    "#fix stuck meters\n",
    "target['tdelt']=target.Timestamp.diff()\n",
    "target = target.resample('15T').interpolate(method='time')\n",
    "target['Timestamp']=target.index"
   ]
  },
  {
   "cell_type": "markdown",
   "metadata": {},
   "source": [
    "Change target values to be the fifteen minute usage, not the cumulative usage"
   ]
  },
  {
   "cell_type": "code",
   "execution_count": 22,
   "metadata": {},
   "outputs": [],
   "source": [
    "#Change target values to be the fifteen minute usage, not the cumulative usage\n",
    "target['Values'] = target['Values'].diff()\n",
    "target.drop('Values_d', axis=1, inplace=True)"
   ]
  },
  {
   "cell_type": "markdown",
   "metadata": {},
   "source": [
    "# preview data"
   ]
  },
  {
   "cell_type": "code",
   "execution_count": 23,
   "metadata": {},
   "outputs": [
    {
     "data": {
      "text/plain": [
       "Text(0,0.5,'kWh electric')"
      ]
     },
     "execution_count": 23,
     "metadata": {},
     "output_type": "execute_result"
    },
    {
     "data": {
      "image/png": "[encoded data removed]",
      "text/plain": [
       "<matplotlib.figure.Figure at 0x7f40b1daa358>"
      ]
     },
     "metadata": {},
     "output_type": "display_data"
    }
   ],
   "source": [
    "target['1-1-2014':'7-1-2017']['Values'].plot(figsize=(12,6))\n",
    "plt.title('Data preview')\n",
    "plt.ylabel('kWh electric')"
   ]
  },
  {
   "cell_type": "markdown",
   "metadata": {},
   "source": [
    "# Add day of week features"
   ]
  },
  {
   "cell_type": "code",
   "execution_count": 24,
   "metadata": {},
   "outputs": [],
   "source": [
    "target['DofW'] = target.Timestamp.dt.dayofweek\n",
    "target['year'] = target.Timestamp.dt.year\n",
    "target['month'] = target.Timestamp.dt.month\n",
    "target['hour'] = target.Timestamp.dt.hour + target.Timestamp.dt.minute/60\n",
    "target['week'] = target.Timestamp.dt.week\n",
    "target['day'] = target.Timestamp.dt.day\n",
    "target['DofY'] = target.Timestamp.dt.dayofyear\n",
    "target['date'] = target.Timestamp.dt.date"
   ]
  },
  {
   "cell_type": "code",
   "execution_count": 25,
   "metadata": {},
   "outputs": [
    {
     "data": {
      "text/html": [
       "<div>\n",
       "<style scoped>\n",
       "    .dataframe tbody tr th:only-of-type {\n",
       "        vertical-align: middle;\n",
       "    }\n",
       "\n",
       "    .dataframe tbody tr th {\n",
       "        vertical-align: top;\n",
       "    }\n",
       "\n",
       "    .dataframe thead th {\n",
       "        text-align: right;\n",
       "    }\n",
       "</style>\n",
       "<table border=\"1\" class=\"dataframe\">\n",
       "  <thead>\n",
       "    <tr style=\"text-align: right;\">\n",
       "      <th></th>\n",
       "      <th>Timestamp</th>\n",
       "      <th>Values</th>\n",
       "      <th>tdelt</th>\n",
       "      <th>DofW</th>\n",
       "      <th>year</th>\n",
       "      <th>month</th>\n",
       "      <th>hour</th>\n",
       "      <th>week</th>\n",
       "      <th>day</th>\n",
       "      <th>DofY</th>\n",
       "      <th>date</th>\n",
       "    </tr>\n",
       "    <tr>\n",
       "      <th>Timestamp</th>\n",
       "      <th></th>\n",
       "      <th></th>\n",
       "      <th></th>\n",
       "      <th></th>\n",
       "      <th></th>\n",
       "      <th></th>\n",
       "      <th></th>\n",
       "      <th></th>\n",
       "      <th></th>\n",
       "      <th></th>\n",
       "      <th></th>\n",
       "    </tr>\n",
       "  </thead>\n",
       "  <tbody>\n",
       "    <tr>\n",
       "      <th>2010-08-31 22:00:00</th>\n",
       "      <td>2010-08-31 22:00:00</td>\n",
       "      <td>NaN</td>\n",
       "      <td>-9.223372e+18</td>\n",
       "      <td>1</td>\n",
       "      <td>2010</td>\n",
       "      <td>8</td>\n",
       "      <td>22.00</td>\n",
       "      <td>35</td>\n",
       "      <td>31</td>\n",
       "      <td>243</td>\n",
       "      <td>2010-08-31</td>\n",
       "    </tr>\n",
       "    <tr>\n",
       "      <th>2010-08-31 22:15:00</th>\n",
       "      <td>2010-08-31 22:15:00</td>\n",
       "      <td>112.6875</td>\n",
       "      <td>9.000000e+11</td>\n",
       "      <td>1</td>\n",
       "      <td>2010</td>\n",
       "      <td>8</td>\n",
       "      <td>22.25</td>\n",
       "      <td>35</td>\n",
       "      <td>31</td>\n",
       "      <td>243</td>\n",
       "      <td>2010-08-31</td>\n",
       "    </tr>\n",
       "    <tr>\n",
       "      <th>2010-08-31 22:30:00</th>\n",
       "      <td>2010-08-31 22:30:00</td>\n",
       "      <td>111.1250</td>\n",
       "      <td>9.000000e+11</td>\n",
       "      <td>1</td>\n",
       "      <td>2010</td>\n",
       "      <td>8</td>\n",
       "      <td>22.50</td>\n",
       "      <td>35</td>\n",
       "      <td>31</td>\n",
       "      <td>243</td>\n",
       "      <td>2010-08-31</td>\n",
       "    </tr>\n",
       "    <tr>\n",
       "      <th>2010-08-31 22:45:00</th>\n",
       "      <td>2010-08-31 22:45:00</td>\n",
       "      <td>120.5625</td>\n",
       "      <td>9.000000e+11</td>\n",
       "      <td>1</td>\n",
       "      <td>2010</td>\n",
       "      <td>8</td>\n",
       "      <td>22.75</td>\n",
       "      <td>35</td>\n",
       "      <td>31</td>\n",
       "      <td>243</td>\n",
       "      <td>2010-08-31</td>\n",
       "    </tr>\n",
       "    <tr>\n",
       "      <th>2010-08-31 23:00:00</th>\n",
       "      <td>2010-08-31 23:00:00</td>\n",
       "      <td>107.9375</td>\n",
       "      <td>9.000000e+11</td>\n",
       "      <td>1</td>\n",
       "      <td>2010</td>\n",
       "      <td>8</td>\n",
       "      <td>23.00</td>\n",
       "      <td>35</td>\n",
       "      <td>31</td>\n",
       "      <td>243</td>\n",
       "      <td>2010-08-31</td>\n",
       "    </tr>\n",
       "  </tbody>\n",
       "</table>\n",
       "</div>"
      ],
      "text/plain": [
       "                              Timestamp    Values         tdelt  DofW  year  \\\n",
       "Timestamp                                                                     \n",
       "2010-08-31 22:00:00 2010-08-31 22:00:00       NaN -9.223372e+18     1  2010   \n",
       "2010-08-31 22:15:00 2010-08-31 22:15:00  112.6875  9.000000e+11     1  2010   \n",
       "2010-08-31 22:30:00 2010-08-31 22:30:00  111.1250  9.000000e+11     1  2010   \n",
       "2010-08-31 22:45:00 2010-08-31 22:45:00  120.5625  9.000000e+11     1  2010   \n",
       "2010-08-31 23:00:00 2010-08-31 23:00:00  107.9375  9.000000e+11     1  2010   \n",
       "\n",
       "                     month   hour  week  day  DofY        date  \n",
       "Timestamp                                                       \n",
       "2010-08-31 22:00:00      8  22.00    35   31   243  2010-08-31  \n",
       "2010-08-31 22:15:00      8  22.25    35   31   243  2010-08-31  \n",
       "2010-08-31 22:30:00      8  22.50    35   31   243  2010-08-31  \n",
       "2010-08-31 22:45:00      8  22.75    35   31   243  2010-08-31  \n",
       "2010-08-31 23:00:00      8  23.00    35   31   243  2010-08-31  "
      ]
     },
     "execution_count": 25,
     "metadata": {},
     "output_type": "execute_result"
    }
   ],
   "source": [
    "target.head()"
   ]
  },
  {
   "cell_type": "markdown",
   "metadata": {},
   "source": [
    "## Combine holiday data into the base features"
   ]
  },
  {
   "cell_type": "code",
   "execution_count": 26,
   "metadata": {},
   "outputs": [],
   "source": [
    "holids['dayAftHoliday'] = (holids['date'] + pd.Timedelta(1, unit='D')).astype(str)\n",
    "holids['dayB4Holiday'] = (holids['date'] + pd.Timedelta(-1, unit='D')).astype(str)\n",
    "holids['isHoliday'] = holids.date.astype(str)\n",
    "\n",
    "#creat temp columns to merge on to keys are formatted properly\n",
    "holids['date2']=holids.date.astype(str)\n",
    "target['date2'] = target.date.astype(str)\n",
    "\n",
    "holid_type_list = ['dayB4Holiday', 'isHoliday', 'dayAftHoliday']\n",
    "\n",
    "def return_date_holid_type_col(holid_type_name):\n",
    "    return target.date2.isin(holids[holid_type_name]).astype(np.int8)\n",
    "\n",
    "#add holiday one hot data to the feature data frame\n",
    "for h_type_name in holid_type_list:\n",
    "    target[h_type_name] = return_date_holid_type_col(h_type_name)\n",
    "\n",
    "# add holiday names\n",
    "target = pd.merge(target, holids[['date2','Holiday']],\n",
    "                 left_on='date2',right_on='date2',\n",
    "                 how='left')    \n",
    "\n",
    "#encode holiday names as numbers\n",
    "target.drop('date2',axis=1,inplace=True)\n",
    "enco = LabelEncoder()\n",
    "target.Holiday.fillna('na',inplace=True)\n",
    "target['Holiday'] = enco.fit_transform(target.Holiday)\n",
    "\n",
    "#reset index after merge\n",
    "target.index = target.Timestamp"
   ]
  },
  {
   "cell_type": "markdown",
   "metadata": {},
   "source": [
    "## Calculate inverse distance weighted average temperatures "
   ]
  },
  {
   "cell_type": "code",
   "execution_count": 27,
   "metadata": {},
   "outputs": [
    {
     "data": {
      "text/html": [
       "<div>\n",
       "<style scoped>\n",
       "    .dataframe tbody tr th:only-of-type {\n",
       "        vertical-align: middle;\n",
       "    }\n",
       "\n",
       "    .dataframe tbody tr th {\n",
       "        vertical-align: top;\n",
       "    }\n",
       "\n",
       "    .dataframe thead th {\n",
       "        text-align: right;\n",
       "    }\n",
       "</style>\n",
       "<table border=\"1\" class=\"dataframe\">\n",
       "  <thead>\n",
       "    <tr style=\"text-align: right;\">\n",
       "      <th></th>\n",
       "      <th>wtd_temp_mean</th>\n",
       "      <th>wtd_temp</th>\n",
       "    </tr>\n",
       "    <tr>\n",
       "      <th>time</th>\n",
       "      <th></th>\n",
       "      <th></th>\n",
       "    </tr>\n",
       "  </thead>\n",
       "  <tbody>\n",
       "    <tr>\n",
       "      <th>2016-12-13 04:15:00</th>\n",
       "      <td>-0.085714</td>\n",
       "      <td>-3.125</td>\n",
       "    </tr>\n",
       "    <tr>\n",
       "      <th>2016-08-29 02:00:00</th>\n",
       "      <td>22.923512</td>\n",
       "      <td>19.900</td>\n",
       "    </tr>\n",
       "    <tr>\n",
       "      <th>2015-09-23 23:45:00</th>\n",
       "      <td>15.308333</td>\n",
       "      <td>8.450</td>\n",
       "    </tr>\n",
       "    <tr>\n",
       "      <th>2012-06-04 04:00:00</th>\n",
       "      <td>20.529539</td>\n",
       "      <td>14.400</td>\n",
       "    </tr>\n",
       "    <tr>\n",
       "      <th>2017-07-22 03:45:00</th>\n",
       "      <td>22.375967</td>\n",
       "      <td>15.875</td>\n",
       "    </tr>\n",
       "  </tbody>\n",
       "</table>\n",
       "</div>"
      ],
      "text/plain": [
       "                     wtd_temp_mean  wtd_temp\n",
       "time                                        \n",
       "2016-12-13 04:15:00      -0.085714    -3.125\n",
       "2016-08-29 02:00:00      22.923512    19.900\n",
       "2015-09-23 23:45:00      15.308333     8.450\n",
       "2012-06-04 04:00:00      20.529539    14.400\n",
       "2017-07-22 03:45:00      22.375967    15.875"
      ]
     },
     "execution_count": 27,
     "metadata": {},
     "output_type": "execute_result"
    }
   ],
   "source": [
    "def idw(col): \n",
    "    invs_elems = np.power(col[np.isfinite(col)], -1)\n",
    "    \n",
    "    return invs_elems / np.sum(invs_elems)\n",
    "\n",
    "wdat['meas_weight'] = wdat.groupby(['Timestamp','site_id'])['Distance'].transform(idw)\n",
    "wdat['wtd_temp'] = wdat['meas_weight']  * wdat['Temperature'] \n",
    "wdat_uniq = wdat.groupby(['Timestamp','site_id'], as_index=False)[['wtd_temp']].agg(np.mean)\n",
    "wdat_uniq['time'] =  pd.to_datetime(wdat_uniq.Timestamp, format='%Y-%m-%d %H:%M:%S')\n",
    "wdat_uniq.index= wdat_uniq['time']\n",
    "\n",
    "#ensure temperature intervals align with the feature intervals\n",
    "aligned_temp = wdat_uniq[['wtd_temp']].resample('15T').interpolate(method='linear')\n",
    "tmp_temp = aligned_temp['wtd_temp']\n",
    "aligned_temp = aligned_temp[['wtd_temp']].rolling(24*4*7).agg([np.mean])\n",
    "aligned_temp.columns = ['_'.join(names) for names in aligned_temp.columns]\n",
    "aligned_temp['wtd_temp'] = tmp_temp\n",
    "del tmp_temp\n",
    "\n",
    "aligned_temp.sample(5)"
   ]
  },
  {
   "cell_type": "code",
   "execution_count": 28,
   "metadata": {},
   "outputs": [],
   "source": [
    "target = pd.merge(target,\n",
    "             aligned_temp,\n",
    "            left_index = True,\n",
    "            right_index = True,\n",
    "            how = 'left')\n",
    "\n"
   ]
  },
  {
   "cell_type": "markdown",
   "metadata": {},
   "source": [
    "## Add flag for abnormal data"
   ]
  },
  {
   "cell_type": "code",
   "execution_count": 29,
   "metadata": {
    "scrolled": true
   },
   "outputs": [],
   "source": [
    "target['is_abnormal'] = False\n"
   ]
  },
  {
   "cell_type": "code",
   "execution_count": 30,
   "metadata": {},
   "outputs": [
    {
     "data": {
      "text/html": [
       "<div>\n",
       "<style scoped>\n",
       "    .dataframe tbody tr th:only-of-type {\n",
       "        vertical-align: middle;\n",
       "    }\n",
       "\n",
       "    .dataframe tbody tr th {\n",
       "        vertical-align: top;\n",
       "    }\n",
       "\n",
       "    .dataframe thead th {\n",
       "        text-align: right;\n",
       "    }\n",
       "</style>\n",
       "<table border=\"1\" class=\"dataframe\">\n",
       "  <thead>\n",
       "    <tr style=\"text-align: right;\">\n",
       "      <th></th>\n",
       "      <th>Timestamp</th>\n",
       "      <th>Values</th>\n",
       "      <th>tdelt</th>\n",
       "      <th>DofW</th>\n",
       "      <th>year</th>\n",
       "      <th>month</th>\n",
       "      <th>hour</th>\n",
       "      <th>week</th>\n",
       "      <th>day</th>\n",
       "      <th>DofY</th>\n",
       "      <th>date</th>\n",
       "      <th>dayB4Holiday</th>\n",
       "      <th>isHoliday</th>\n",
       "      <th>dayAftHoliday</th>\n",
       "      <th>Holiday</th>\n",
       "      <th>wtd_temp_mean</th>\n",
       "      <th>wtd_temp</th>\n",
       "      <th>is_abnormal</th>\n",
       "    </tr>\n",
       "    <tr>\n",
       "      <th>Timestamp</th>\n",
       "      <th></th>\n",
       "      <th></th>\n",
       "      <th></th>\n",
       "      <th></th>\n",
       "      <th></th>\n",
       "      <th></th>\n",
       "      <th></th>\n",
       "      <th></th>\n",
       "      <th></th>\n",
       "      <th></th>\n",
       "      <th></th>\n",
       "      <th></th>\n",
       "      <th></th>\n",
       "      <th></th>\n",
       "      <th></th>\n",
       "      <th></th>\n",
       "      <th></th>\n",
       "      <th></th>\n",
       "    </tr>\n",
       "  </thead>\n",
       "  <tbody>\n",
       "    <tr>\n",
       "      <th>2014-10-13 04:15:00</th>\n",
       "      <td>2014-10-13 04:15:00</td>\n",
       "      <td>89.5000</td>\n",
       "      <td>9.000000e+11</td>\n",
       "      <td>0</td>\n",
       "      <td>2014</td>\n",
       "      <td>10</td>\n",
       "      <td>4.25</td>\n",
       "      <td>42</td>\n",
       "      <td>13</td>\n",
       "      <td>286</td>\n",
       "      <td>2014-10-13</td>\n",
       "      <td>0</td>\n",
       "      <td>0</td>\n",
       "      <td>0</td>\n",
       "      <td>11</td>\n",
       "      <td>17.822954</td>\n",
       "      <td>15.05</td>\n",
       "      <td>False</td>\n",
       "    </tr>\n",
       "    <tr>\n",
       "      <th>2016-12-19 01:45:00</th>\n",
       "      <td>2016-12-19 01:45:00</td>\n",
       "      <td>102.5000</td>\n",
       "      <td>9.000000e+11</td>\n",
       "      <td>0</td>\n",
       "      <td>2016</td>\n",
       "      <td>12</td>\n",
       "      <td>1.75</td>\n",
       "      <td>51</td>\n",
       "      <td>19</td>\n",
       "      <td>354</td>\n",
       "      <td>2016-12-19</td>\n",
       "      <td>0</td>\n",
       "      <td>0</td>\n",
       "      <td>0</td>\n",
       "      <td>11</td>\n",
       "      <td>-0.449777</td>\n",
       "      <td>-0.80</td>\n",
       "      <td>False</td>\n",
       "    </tr>\n",
       "    <tr>\n",
       "      <th>2015-08-20 13:45:00</th>\n",
       "      <td>2015-08-20 13:45:00</td>\n",
       "      <td>227.0000</td>\n",
       "      <td>9.000000e+11</td>\n",
       "      <td>3</td>\n",
       "      <td>2015</td>\n",
       "      <td>8</td>\n",
       "      <td>13.75</td>\n",
       "      <td>34</td>\n",
       "      <td>20</td>\n",
       "      <td>232</td>\n",
       "      <td>2015-08-20</td>\n",
       "      <td>0</td>\n",
       "      <td>0</td>\n",
       "      <td>0</td>\n",
       "      <td>11</td>\n",
       "      <td>18.406324</td>\n",
       "      <td>23.20</td>\n",
       "      <td>False</td>\n",
       "    </tr>\n",
       "    <tr>\n",
       "      <th>2016-01-12 03:30:00</th>\n",
       "      <td>2016-01-12 03:30:00</td>\n",
       "      <td>102.3125</td>\n",
       "      <td>9.000000e+11</td>\n",
       "      <td>1</td>\n",
       "      <td>2016</td>\n",
       "      <td>1</td>\n",
       "      <td>3.50</td>\n",
       "      <td>2</td>\n",
       "      <td>12</td>\n",
       "      <td>12</td>\n",
       "      <td>2016-01-12</td>\n",
       "      <td>0</td>\n",
       "      <td>0</td>\n",
       "      <td>0</td>\n",
       "      <td>11</td>\n",
       "      <td>6.491890</td>\n",
       "      <td>9.95</td>\n",
       "      <td>False</td>\n",
       "    </tr>\n",
       "    <tr>\n",
       "      <th>2011-08-29 19:00:00</th>\n",
       "      <td>2011-08-29 19:00:00</td>\n",
       "      <td>127.5000</td>\n",
       "      <td>9.000000e+11</td>\n",
       "      <td>0</td>\n",
       "      <td>2011</td>\n",
       "      <td>8</td>\n",
       "      <td>19.00</td>\n",
       "      <td>35</td>\n",
       "      <td>29</td>\n",
       "      <td>241</td>\n",
       "      <td>2011-08-29</td>\n",
       "      <td>0</td>\n",
       "      <td>0</td>\n",
       "      <td>0</td>\n",
       "      <td>11</td>\n",
       "      <td>NaN</td>\n",
       "      <td>NaN</td>\n",
       "      <td>False</td>\n",
       "    </tr>\n",
       "  </tbody>\n",
       "</table>\n",
       "</div>"
      ],
      "text/plain": [
       "                              Timestamp    Values         tdelt  DofW  year  \\\n",
       "Timestamp                                                                     \n",
       "2014-10-13 04:15:00 2014-10-13 04:15:00   89.5000  9.000000e+11     0  2014   \n",
       "2016-12-19 01:45:00 2016-12-19 01:45:00  102.5000  9.000000e+11     0  2016   \n",
       "2015-08-20 13:45:00 2015-08-20 13:45:00  227.0000  9.000000e+11     3  2015   \n",
       "2016-01-12 03:30:00 2016-01-12 03:30:00  102.3125  9.000000e+11     1  2016   \n",
       "2011-08-29 19:00:00 2011-08-29 19:00:00  127.5000  9.000000e+11     0  2011   \n",
       "\n",
       "                     month   hour  week  day  DofY        date  dayB4Holiday  \\\n",
       "Timestamp                                                                      \n",
       "2014-10-13 04:15:00     10   4.25    42   13   286  2014-10-13             0   \n",
       "2016-12-19 01:45:00     12   1.75    51   19   354  2016-12-19             0   \n",
       "2015-08-20 13:45:00      8  13.75    34   20   232  2015-08-20             0   \n",
       "2016-01-12 03:30:00      1   3.50     2   12    12  2016-01-12             0   \n",
       "2011-08-29 19:00:00      8  19.00    35   29   241  2011-08-29             0   \n",
       "\n",
       "                     isHoliday  dayAftHoliday  Holiday  wtd_temp_mean  \\\n",
       "Timestamp                                                               \n",
       "2014-10-13 04:15:00          0              0       11      17.822954   \n",
       "2016-12-19 01:45:00          0              0       11      -0.449777   \n",
       "2015-08-20 13:45:00          0              0       11      18.406324   \n",
       "2016-01-12 03:30:00          0              0       11       6.491890   \n",
       "2011-08-29 19:00:00          0              0       11            NaN   \n",
       "\n",
       "                     wtd_temp  is_abnormal  \n",
       "Timestamp                                   \n",
       "2014-10-13 04:15:00     15.05        False  \n",
       "2016-12-19 01:45:00     -0.80        False  \n",
       "2015-08-20 13:45:00     23.20        False  \n",
       "2016-01-12 03:30:00      9.95        False  \n",
       "2011-08-29 19:00:00       NaN        False  "
      ]
     },
     "execution_count": 30,
     "metadata": {},
     "output_type": "execute_result"
    }
   ],
   "source": [
    "target.sample(5)"
   ]
  },
  {
   "cell_type": "markdown",
   "metadata": {},
   "source": [
    "\n",
    "# Save cleaned df for next step in pipeline"
   ]
  },
  {
   "cell_type": "code",
   "execution_count": 31,
   "metadata": {},
   "outputs": [],
   "source": [
    "target.to_csv('preprocessed_site_data.csv', index=False)"
   ]
  },
  {
   "cell_type": "code",
   "execution_count": null,
   "metadata": {},
   "outputs": [],
   "source": []
  }
 ],
 "metadata": {
  "kernelspec": {
   "display_name": "Python 3",
   "language": "python",
   "name": "python3"
  },
  "language_info": {
   "codemirror_mode": {
    "name": "ipython",
    "version": 3
   },
   "file_extension": ".py",
   "mimetype": "text/x-python",
   "name": "python",
   "nbconvert_exporter": "python",
   "pygments_lexer": "ipython3",
   "version": "3.6.4"
  }
 },
 "nbformat": 4,
 "nbformat_minor": 2
}
